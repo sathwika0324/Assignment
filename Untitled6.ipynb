{
  "nbformat": 4,
  "nbformat_minor": 0,
  "metadata": {
    "colab": {
      "provenance": [],
      "authorship_tag": "ABX9TyNSVdquE/PpI8roNkLOcCaS",
      "include_colab_link": true
    },
    "kernelspec": {
      "name": "python3",
      "display_name": "Python 3"
    },
    "language_info": {
      "name": "python"
    }
  },
  "cells": [
    {
      "cell_type": "markdown",
      "metadata": {
        "id": "view-in-github",
        "colab_type": "text"
      },
      "source": [
        "<a href=\"https://colab.research.google.com/github/sathwika0324/Assignment/blob/main/Untitled6.ipynb\" target=\"_parent\"><img src=\"https://colab.research.google.com/assets/colab-badge.svg\" alt=\"Open In Colab\"/></a>"
      ]
    },
    {
      "cell_type": "code",
      "execution_count": null,
      "metadata": {
        "id": "gDO7IXFmXQ46"
      },
      "outputs": [],
      "source": [
        "import pandas as pd"
      ]
    },
    {
      "cell_type": "code",
      "source": [
        "# Load the dataset\n",
        "df = pd.read_csv('train.csv')  # Make sure 'train.csv' is in the current working directory\n",
        "\n",
        "# Display the first few rows to verify the data is loaded correctly\n",
        "print(df.head())"
      ],
      "metadata": {
        "colab": {
          "base_uri": "https://localhost:8080/"
        },
        "id": "J4UxnOyWXY48",
        "outputId": "2442a80c-1c32-4920-c778-1d96cc6e2434"
      },
      "execution_count": null,
      "outputs": [
        {
          "output_type": "stream",
          "name": "stdout",
          "text": [
            "   Unnamed: 0                              Name    Location  Year  \\\n",
            "0           1  Hyundai Creta 1.6 CRDi SX Option        Pune  2015   \n",
            "1           2                      Honda Jazz V     Chennai  2011   \n",
            "2           3                 Maruti Ertiga VDI     Chennai  2012   \n",
            "3           4   Audi A4 New 2.0 TDI Multitronic  Coimbatore  2013   \n",
            "4           6            Nissan Micra Diesel XV      Jaipur  2013   \n",
            "\n",
            "   Kilometers_Driven Fuel_Type Transmission Owner_Type     Mileage   Engine  \\\n",
            "0              41000    Diesel       Manual      First  19.67 kmpl  1582 CC   \n",
            "1              46000    Petrol       Manual      First    13 km/kg  1199 CC   \n",
            "2              87000    Diesel       Manual      First  20.77 kmpl  1248 CC   \n",
            "3              40670    Diesel    Automatic     Second   15.2 kmpl  1968 CC   \n",
            "4              86999    Diesel       Manual      First  23.08 kmpl  1461 CC   \n",
            "\n",
            "       Power  Seats  New_Price  Price  \n",
            "0  126.2 bhp    5.0        NaN  12.50  \n",
            "1   88.7 bhp    5.0  8.61 Lakh   4.50  \n",
            "2  88.76 bhp    7.0        NaN   6.00  \n",
            "3  140.8 bhp    5.0        NaN  17.74  \n",
            "4   63.1 bhp    5.0        NaN   3.50  \n"
          ]
        }
      ]
    },
    {
      "cell_type": "markdown",
      "source": [
        "Look for the missing values in all the columns and either impute them (replace with mean,\n",
        "median, or mode) or drop them. Justify your action for this task."
      ],
      "metadata": {
        "id": "PkQzaRFpYhYu"
      }
    },
    {
      "cell_type": "code",
      "source": [
        "# Define function to clean numeric columns\n",
        "def clean_numeric_column(column):\n",
        "    # Remove non-numeric characters and convert to float\n",
        "    return pd.to_numeric(column.str.replace(r'[^0-9.]', '', regex=True), errors='coerce')"
      ],
      "metadata": {
        "id": "AZ8oVDUGXVJe"
      },
      "execution_count": null,
      "outputs": []
    },
    {
      "cell_type": "code",
      "source": [
        "# Apply the function to the necessary columns\n",
        "df['Mileage'] = clean_numeric_column(df['Mileage'])\n",
        "df['Engine'] = clean_numeric_column(df['Engine'])\n",
        "df['Power'] = clean_numeric_column(df['Power'])"
      ],
      "metadata": {
        "id": "KmS8pT3xXewu"
      },
      "execution_count": null,
      "outputs": []
    },
    {
      "cell_type": "code",
      "source": [
        "# Impute missing values\n",
        "# Mileage - impute with median\n",
        "df['Mileage'] = df['Mileage'].fillna(df['Mileage'].median())\n",
        "# Engine - impute with median\n",
        "df['Engine'] = df['Engine'].fillna(df['Engine'].median())\n",
        "# Power - impute with median\n",
        "df['Power'] = df['Power'].fillna(df['Power'].median())\n",
        "# Seats - impute with mode (most common value)\n",
        "df['Seats'] = df['Seats'].fillna(df['Seats'].mode()[0])"
      ],
      "metadata": {
        "id": "nytn5CU3YWm2"
      },
      "execution_count": null,
      "outputs": []
    },
    {
      "cell_type": "code",
      "source": [
        "# Drop New_Price column due to high proportion of missing values\n",
        "df.drop(columns=['New_Price'], inplace=True)"
      ],
      "metadata": {
        "id": "CrGbUYFxXkN9"
      },
      "execution_count": null,
      "outputs": []
    },
    {
      "cell_type": "code",
      "source": [
        "# Final check for missing values\n",
        "print(\"Remaining missing values:\\n\", df.isnull().sum())"
      ],
      "metadata": {
        "colab": {
          "base_uri": "https://localhost:8080/"
        },
        "id": "FFKKsHSYXmUd",
        "outputId": "401261fc-419a-4046-c7bd-da1cd602e1df"
      },
      "execution_count": null,
      "outputs": [
        {
          "output_type": "stream",
          "name": "stdout",
          "text": [
            "Remaining missing values:\n",
            " Unnamed: 0           0\n",
            "Name                 0\n",
            "Location             0\n",
            "Year                 0\n",
            "Kilometers_Driven    0\n",
            "Fuel_Type            0\n",
            "Transmission         0\n",
            "Owner_Type           0\n",
            "Mileage              0\n",
            "Engine               0\n",
            "Power                0\n",
            "Seats                0\n",
            "Price                0\n",
            "dtype: int64\n"
          ]
        }
      ]
    },
    {
      "cell_type": "markdown",
      "source": [
        "Remove the units from some of the attributes and only keep the numerical values (for\n",
        "example remove kmpl from “Mileage”, CC from “Engine”, bhp from “Power”, and lakh from\n",
        "“New_price”)"
      ],
      "metadata": {
        "id": "72y1fFJYYl8G"
      }
    },
    {
      "cell_type": "code",
      "source": [
        "print(df.columns)\n"
      ],
      "metadata": {
        "colab": {
          "base_uri": "https://localhost:8080/"
        },
        "id": "14stUTymZwnn",
        "outputId": "7150e87b-3382-407e-c314-db10437f105c"
      },
      "execution_count": null,
      "outputs": [
        {
          "output_type": "stream",
          "name": "stdout",
          "text": [
            "Index(['Unnamed: 0', 'Name', 'Location', 'Year', 'Kilometers_Driven',\n",
            "       'Fuel_Type', 'Transmission', 'Owner_Type', 'Mileage', 'Engine', 'Power',\n",
            "       'Seats', 'Price'],\n",
            "      dtype='object')\n"
          ]
        }
      ]
    },
    {
      "cell_type": "code",
      "source": [
        "#  Define a function to clean numeric columns by removing units and converting to float\n",
        "def clean_numeric_column(column):\n",
        "    # Ensure the column is treated as a string, remove non-numeric characters, and convert to float\n",
        "    if column is not None:\n",
        "        return pd.to_numeric(column.astype(str).str.replace(r'[^0-9.]', '', regex=True), errors='coerce')\n",
        "    return None  # Return None if column does not exist"
      ],
      "metadata": {
        "id": "bwBQ6oKqZhtP"
      },
      "execution_count": null,
      "outputs": []
    },
    {
      "cell_type": "code",
      "source": [
        "# Clean columns if they exist\n",
        "df['Mileage'] = clean_numeric_column(df.get('Mileage'))  # Removes 'kmpl' from 'Mileage'\n",
        "df['Engine'] = clean_numeric_column(df.get('Engine'))    # Removes 'CC' from 'Engine'\n",
        "df['Power'] = clean_numeric_column(df.get('Power'))      # Removes 'bhp' from 'Power'\n",
        "df['New_Price'] = clean_numeric_column(df.get('New_Price'))  # Removes 'lakh' from 'New_Price'"
      ],
      "metadata": {
        "id": "NHU-zY5mYixS"
      },
      "execution_count": null,
      "outputs": []
    },
    {
      "cell_type": "code",
      "source": [
        "# Display the cleaned columns to verify\n",
        "print(df[['Mileage', 'Engine', 'Power', 'New_Price']].head())\n"
      ],
      "metadata": {
        "colab": {
          "base_uri": "https://localhost:8080/"
        },
        "id": "g0S8SeTuZYYS",
        "outputId": "93c97f47-17e4-42f7-cdcf-fc24bee218bd"
      },
      "execution_count": null,
      "outputs": [
        {
          "output_type": "stream",
          "name": "stdout",
          "text": [
            "   Mileage  Engine   Power New_Price\n",
            "0    19.67  1582.0  126.20      None\n",
            "1    13.00  1199.0   88.70      None\n",
            "2    20.77  1248.0   88.76      None\n",
            "3    15.20  1968.0  140.80      None\n",
            "4    23.08  1461.0   63.10      None\n"
          ]
        }
      ]
    },
    {
      "cell_type": "markdown",
      "source": [
        "Change the categorical variables (“Fuel_Type” and “Transmission”) into numerical one hot\n",
        "encoded value"
      ],
      "metadata": {
        "id": "xws4IDaxamQw"
      }
    },
    {
      "cell_type": "code",
      "source": [
        "# Perform one-hot encoding on 'Fuel_Type' and 'Transmission' columns\n",
        "df = pd.get_dummies(df, columns=['Fuel_Type', 'Transmission'], drop_first=True)"
      ],
      "metadata": {
        "id": "hWEjKuuQalnO"
      },
      "execution_count": null,
      "outputs": []
    },
    {
      "cell_type": "code",
      "source": [
        "# Display the updated DataFrame to verify\n",
        "print(df.head())"
      ],
      "metadata": {
        "colab": {
          "base_uri": "https://localhost:8080/"
        },
        "id": "rNfP3tUHaxgC",
        "outputId": "00e582b1-6885-41ae-f0a4-92afa7d81ec7"
      },
      "execution_count": null,
      "outputs": [
        {
          "output_type": "stream",
          "name": "stdout",
          "text": [
            "   Unnamed: 0                              Name    Location  Year  \\\n",
            "0           1  Hyundai Creta 1.6 CRDi SX Option        Pune  2015   \n",
            "1           2                      Honda Jazz V     Chennai  2011   \n",
            "2           3                 Maruti Ertiga VDI     Chennai  2012   \n",
            "3           4   Audi A4 New 2.0 TDI Multitronic  Coimbatore  2013   \n",
            "4           6            Nissan Micra Diesel XV      Jaipur  2013   \n",
            "\n",
            "   Kilometers_Driven Owner_Type  Mileage  Engine   Power  Seats  Price  \\\n",
            "0              41000      First    19.67  1582.0  126.20    5.0  12.50   \n",
            "1              46000      First    13.00  1199.0   88.70    5.0   4.50   \n",
            "2              87000      First    20.77  1248.0   88.76    7.0   6.00   \n",
            "3              40670     Second    15.20  1968.0  140.80    5.0  17.74   \n",
            "4              86999      First    23.08  1461.0   63.10    5.0   3.50   \n",
            "\n",
            "  New_Price  Fuel_Type_Electric  Fuel_Type_Petrol  Transmission_Manual  \n",
            "0      None               False             False                 True  \n",
            "1      None               False              True                 True  \n",
            "2      None               False             False                 True  \n",
            "3      None               False             False                False  \n",
            "4      None               False             False                 True  \n"
          ]
        }
      ]
    },
    {
      "cell_type": "markdown",
      "source": [
        "Create one more feature and add this column to the dataset (you can use mutate function in\n",
        "R for this). For example, you can calculate the current age of the car by subtracting “Year” value\n",
        "from the current year"
      ],
      "metadata": {
        "id": "5fxwmYv1azwa"
      }
    },
    {
      "cell_type": "code",
      "source": [
        "from datetime import datetime\n"
      ],
      "metadata": {
        "id": "hLYM4DnNecav"
      },
      "execution_count": null,
      "outputs": []
    },
    {
      "cell_type": "code",
      "source": [
        "# Calculate the current year\n",
        "current_year = datetime.now().year"
      ],
      "metadata": {
        "id": "rcScajIVeHkL"
      },
      "execution_count": null,
      "outputs": []
    },
    {
      "cell_type": "code",
      "source": [
        "# Create a new feature 'Car_Age'\n",
        "df['Car_Age'] = current_year - df['Year']"
      ],
      "metadata": {
        "id": "bzuR2QAWeJko"
      },
      "execution_count": null,
      "outputs": []
    },
    {
      "cell_type": "code",
      "source": [
        "# Create a new feature 'Car_Age' by subtracting 'Year' from the current year\n",
        "df['Car_Age'] = current_year - df['Year']"
      ],
      "metadata": {
        "id": "9M-39coEeSO5"
      },
      "execution_count": null,
      "outputs": []
    },
    {
      "cell_type": "code",
      "source": [
        "# Display the updated DataFrame with the new 'Car_Age' and 'Age_Category' columns\n",
        "print(df)"
      ],
      "metadata": {
        "colab": {
          "base_uri": "https://localhost:8080/"
        },
        "id": "srkhRdXseNWo",
        "outputId": "1df506d4-c2b6-42e9-fad8-510277b83cb5"
      },
      "execution_count": null,
      "outputs": [
        {
          "output_type": "stream",
          "name": "stdout",
          "text": [
            "      Unnamed: 0                              Name    Location  Year  \\\n",
            "0              1  Hyundai Creta 1.6 CRDi SX Option        Pune  2015   \n",
            "1              2                      Honda Jazz V     Chennai  2011   \n",
            "2              3                 Maruti Ertiga VDI     Chennai  2012   \n",
            "3              4   Audi A4 New 2.0 TDI Multitronic  Coimbatore  2013   \n",
            "4              6            Nissan Micra Diesel XV      Jaipur  2013   \n",
            "...          ...                               ...         ...   ...   \n",
            "5842        6014                  Maruti Swift VDI       Delhi  2014   \n",
            "5843        6015          Hyundai Xcent 1.1 CRDi S      Jaipur  2015   \n",
            "5844        6016             Mahindra Xylo D4 BSIV      Jaipur  2012   \n",
            "5845        6017                Maruti Wagon R VXI     Kolkata  2013   \n",
            "5846        6018             Chevrolet Beat Diesel   Hyderabad  2011   \n",
            "\n",
            "      Kilometers_Driven Owner_Type  Mileage  Engine   Power  Seats  Price  \\\n",
            "0                 41000      First    19.67  1582.0  126.20    5.0  12.50   \n",
            "1                 46000      First    13.00  1199.0   88.70    5.0   4.50   \n",
            "2                 87000      First    20.77  1248.0   88.76    7.0   6.00   \n",
            "3                 40670     Second    15.20  1968.0  140.80    5.0  17.74   \n",
            "4                 86999      First    23.08  1461.0   63.10    5.0   3.50   \n",
            "...                 ...        ...      ...     ...     ...    ...    ...   \n",
            "5842              27365      First    28.40  1248.0   74.00    5.0   4.75   \n",
            "5843             100000      First    24.40  1120.0   71.00    5.0   4.00   \n",
            "5844              55000     Second    14.00  2498.0  112.00    8.0   2.90   \n",
            "5845              46000      First    18.90   998.0   67.10    5.0   2.65   \n",
            "5846              47000      First    25.44   936.0   57.60    5.0   2.50   \n",
            "\n",
            "     New_Price  Fuel_Type_Electric  Fuel_Type_Petrol  Transmission_Manual  \\\n",
            "0         None               False             False                 True   \n",
            "1         None               False              True                 True   \n",
            "2         None               False             False                 True   \n",
            "3         None               False             False                False   \n",
            "4         None               False             False                 True   \n",
            "...        ...                 ...               ...                  ...   \n",
            "5842      None               False             False                 True   \n",
            "5843      None               False             False                 True   \n",
            "5844      None               False             False                 True   \n",
            "5845      None               False              True                 True   \n",
            "5846      None               False             False                 True   \n",
            "\n",
            "      Car_Age  \n",
            "0           9  \n",
            "1          13  \n",
            "2          12  \n",
            "3          11  \n",
            "4          11  \n",
            "...       ...  \n",
            "5842       10  \n",
            "5843        9  \n",
            "5844       12  \n",
            "5845       11  \n",
            "5846       13  \n",
            "\n",
            "[5847 rows x 16 columns]\n"
          ]
        }
      ]
    },
    {
      "cell_type": "markdown",
      "source": [
        "Perform select, filter, rename, mutate, arrange and summarize with group by operations (or\n",
        "their equivalent operations in python) on this dataset. ("
      ],
      "metadata": {
        "id": "g47PO2eKfG3K"
      }
    },
    {
      "cell_type": "code",
      "source": [
        "# Function to calculate Car Age\n",
        "def calculate_car_age(df):\n",
        "    current_year = datetime.now().year\n",
        "    df['Car_Age'] = current_year - df['Year']\n",
        "    return df"
      ],
      "metadata": {
        "id": "OTIBTLdogiyI"
      },
      "execution_count": null,
      "outputs": []
    },
    {
      "cell_type": "code",
      "source": [
        "# Function to select specific columns\n",
        "def select_columns(df):\n",
        "    return df[['Name', 'Year', 'Price', 'Car_Age']]"
      ],
      "metadata": {
        "id": "jqsy4DAzgmV0"
      },
      "execution_count": null,
      "outputs": []
    },
    {
      "cell_type": "code",
      "source": [
        "# Function to filter data\n",
        "def filter_data(df, price_threshold):\n",
        "    return df[df['Price'] > price_threshold]"
      ],
      "metadata": {
        "id": "sUYDoAErh0YN"
      },
      "execution_count": null,
      "outputs": []
    },
    {
      "cell_type": "code",
      "source": [
        "# Function to rename columns\n",
        "def rename_columns(df):\n",
        "    return df.rename(columns={'Price': 'Used_Car_Price'})"
      ],
      "metadata": {
        "id": "w-3liKj6h3hV"
      },
      "execution_count": null,
      "outputs": []
    },
    {
      "cell_type": "code",
      "source": [
        "# Function to mutate data by adding a new column\n",
        "def mutate_data(df):\n",
        "    df['Price_Per_Year'] = df['Used_Car_Price'] / df['Car_Age']\n",
        "    return df"
      ],
      "metadata": {
        "id": "dp0HgSMbh51L"
      },
      "execution_count": null,
      "outputs": []
    },
    {
      "cell_type": "code",
      "source": [
        "# Function to arrange data\n",
        "def arrange_data(df):\n",
        "    return df.sort_values(by='Used_Car_Price', ascending=False)"
      ],
      "metadata": {
        "id": "DJXsQyuih8pJ"
      },
      "execution_count": null,
      "outputs": []
    },
    {
      "cell_type": "code",
      "source": [
        "# Processing the DataFrame through the defined functions\n",
        "df = calculate_car_age(df)\n",
        "selected_data = select_columns(df)\n",
        "filtered_data = filter_data(selected_data, price_threshold=15000)\n",
        "renamed_data = rename_columns(filtered_data)\n",
        "mutated_data = mutate_data(renamed_data)\n",
        "arranged_data = arrange_data(mutated_data)"
      ],
      "metadata": {
        "id": "2gWMWGKAh-x1"
      },
      "execution_count": null,
      "outputs": []
    },
    {
      "cell_type": "code",
      "source": [
        "# Display the final arranged data\n",
        "print(\"\\nFinal Arranged Data:\\n\", arranged_data)"
      ],
      "metadata": {
        "colab": {
          "base_uri": "https://localhost:8080/"
        },
        "id": "znnF5PvuiBa9",
        "outputId": "869a1c0b-245b-4470-80c3-1371ef932ec2"
      },
      "execution_count": null,
      "outputs": [
        {
          "output_type": "stream",
          "name": "stdout",
          "text": [
            "\n",
            "Final Arranged Data:\n",
            " Empty DataFrame\n",
            "Columns: [Name, Year, Used_Car_Price, Car_Age, Price_Per_Year]\n",
            "Index: []\n"
          ]
        }
      ]
    }
  ]
}