{
  "nbformat": 4,
  "nbformat_minor": 0,
  "metadata": {
    "colab": {
      "provenance": [],
      "authorship_tag": "ABX9TyOKzZMoArN1XbNQNqWrSCNB",
      "include_colab_link": true
    },
    "kernelspec": {
      "name": "python3",
      "display_name": "Python 3"
    },
    "language_info": {
      "name": "python"
    }
  },
  "cells": [
    {
      "cell_type": "markdown",
      "metadata": {
        "id": "view-in-github",
        "colab_type": "text"
      },
      "source": [
        "<a href=\"https://colab.research.google.com/github/sathwika0324/Assignment/blob/main/Untitled1.ipynb\" target=\"_parent\"><img src=\"https://colab.research.google.com/assets/colab-badge.svg\" alt=\"Open In Colab\"/></a>"
      ]
    },
    {
      "cell_type": "code",
      "execution_count": 1,
      "metadata": {
        "id": "MGeoHy_Oo0RP"
      },
      "outputs": [],
      "source": [
        "import pandas as pd"
      ]
    },
    {
      "cell_type": "code",
      "source": [
        "# Load the dataset\n",
        "df = pd.read_csv('train.csv')  # Make sure 'train.csv' is in the current working directory\n",
        "\n",
        "# Display the first few rows to verify the data is loaded correctly\n",
        "print(df.head())\n"
      ],
      "metadata": {
        "colab": {
          "base_uri": "https://localhost:8080/"
        },
        "id": "65iLSwbUo5u2",
        "outputId": "33c4fff6-0f1a-498d-ef34-208726b854ab"
      },
      "execution_count": 2,
      "outputs": [
        {
          "output_type": "stream",
          "name": "stdout",
          "text": [
            "   Unnamed: 0                              Name    Location  Year  \\\n",
            "0           1  Hyundai Creta 1.6 CRDi SX Option        Pune  2015   \n",
            "1           2                      Honda Jazz V     Chennai  2011   \n",
            "2           3                 Maruti Ertiga VDI     Chennai  2012   \n",
            "3           4   Audi A4 New 2.0 TDI Multitronic  Coimbatore  2013   \n",
            "4           6            Nissan Micra Diesel XV      Jaipur  2013   \n",
            "\n",
            "   Kilometers_Driven Fuel_Type Transmission Owner_Type     Mileage   Engine  \\\n",
            "0              41000    Diesel       Manual      First  19.67 kmpl  1582 CC   \n",
            "1              46000    Petrol       Manual      First    13 km/kg  1199 CC   \n",
            "2              87000    Diesel       Manual      First  20.77 kmpl  1248 CC   \n",
            "3              40670    Diesel    Automatic     Second   15.2 kmpl  1968 CC   \n",
            "4              86999    Diesel       Manual      First  23.08 kmpl  1461 CC   \n",
            "\n",
            "       Power  Seats  New_Price  Price  \n",
            "0  126.2 bhp    5.0        NaN  12.50  \n",
            "1   88.7 bhp    5.0  8.61 Lakh   4.50  \n",
            "2  88.76 bhp    7.0        NaN   6.00  \n",
            "3  140.8 bhp    5.0        NaN  17.74  \n",
            "4   63.1 bhp    5.0        NaN   3.50  \n"
          ]
        }
      ]
    },
    {
      "cell_type": "code",
      "source": [
        "# Function to clean and convert columns by removing non-numeric characters\n",
        "def clean_numeric_column(column):\n",
        "    # Remove non-numeric characters and convert to float\n",
        "    return pd.to_numeric(column.str.replace(r'[^0-9.]', '', regex=True), errors='coerce')"
      ],
      "metadata": {
        "id": "uUC_JIycv-yl"
      },
      "execution_count": 3,
      "outputs": []
    },
    {
      "cell_type": "code",
      "source": [
        "# Clean numerical columns\n",
        "numerical_columns = ['Mileage', 'Engine', 'Power']  # Update this list based on your dataset\n",
        "for col in numerical_columns:\n",
        "    if col in df.columns:\n",
        "        df[col] = clean_numeric_column(df[col])  # Clean the column"
      ],
      "metadata": {
        "id": "GFhTN50YwDdY"
      },
      "execution_count": 4,
      "outputs": []
    },
    {
      "cell_type": "markdown",
      "source": [
        " Look for the missing values in all the columns and either impute them (replace with mean,\n",
        "median, or mode) or drop them. Justify your action for this task."
      ],
      "metadata": {
        "id": "FfdRzuxm8buY"
      }
    },
    {
      "cell_type": "code",
      "source": [
        "# Check for missing values\n",
        "missing_values = df.isnull().sum()\n",
        "print(\"Missing values in each column:\\n\", missing_values)# Check for missing values"
      ],
      "metadata": {
        "colab": {
          "base_uri": "https://localhost:8080/"
        },
        "id": "OomkDQntpAeS",
        "outputId": "0e64f3c1-0880-406a-ea62-4863be7027a0"
      },
      "execution_count": 5,
      "outputs": [
        {
          "output_type": "stream",
          "name": "stdout",
          "text": [
            "Missing values in each column:\n",
            " Unnamed: 0              0\n",
            "Name                    0\n",
            "Location                0\n",
            "Year                    0\n",
            "Kilometers_Driven       0\n",
            "Fuel_Type               0\n",
            "Transmission            0\n",
            "Owner_Type              0\n",
            "Mileage                 2\n",
            "Engine                 36\n",
            "Power                  36\n",
            "Seats                  38\n",
            "New_Price            5032\n",
            "Price                   0\n",
            "dtype: int64\n"
          ]
        }
      ]
    },
    {
      "cell_type": "code",
      "source": [
        "# Impute numerical columns with median, as it is less affected by outliers\n",
        "for col in numerical_columns:\n",
        "    if col in df.columns:\n",
        "        # Fill missing values with the median of the column and assign back\n",
        "        df[col] = df[col].fillna(df[col].median())"
      ],
      "metadata": {
        "id": "kpC9BUn6vxdF"
      },
      "execution_count": 7,
      "outputs": []
    },
    {
      "cell_type": "code",
      "source": [
        "# Impute categorical columns with mode (most frequent value)\n",
        "categorical_columns = ['Seats']  # Update this list based on your dataset\n",
        "for col in categorical_columns:\n",
        "    if col in df.columns:\n",
        "        df[col] = df[col].fillna(df[col].mode()[0])  # Impute with mode"
      ],
      "metadata": {
        "id": "oBP2e5e-uESH"
      },
      "execution_count": 8,
      "outputs": []
    },
    {
      "cell_type": "code",
      "source": [
        "# Drop rows where the target variable 'Price' is missing, since it's the focus of the analysis\n",
        "df.dropna(subset=['Price'], inplace=True)"
      ],
      "metadata": {
        "id": "ZnAbgSiBuHHu"
      },
      "execution_count": 9,
      "outputs": []
    },
    {
      "cell_type": "code",
      "source": [
        "# Check again to confirm no missing values remain\n",
        "missing_values_after = df.isnull().sum()\n",
        "print(\"\\nMissing values after handling:\\n\", missing_values_after)"
      ],
      "metadata": {
        "colab": {
          "base_uri": "https://localhost:8080/"
        },
        "id": "EI6AMxanuIrE",
        "outputId": "2af1f5cb-0065-4430-9e99-087bf02faea6"
      },
      "execution_count": 10,
      "outputs": [
        {
          "output_type": "stream",
          "name": "stdout",
          "text": [
            "\n",
            "Missing values after handling:\n",
            " Unnamed: 0              0\n",
            "Name                    0\n",
            "Location                0\n",
            "Year                    0\n",
            "Kilometers_Driven       0\n",
            "Fuel_Type               0\n",
            "Transmission            0\n",
            "Owner_Type              0\n",
            "Mileage                 0\n",
            "Engine                  0\n",
            "Power                   0\n",
            "Seats                   0\n",
            "New_Price            5032\n",
            "Price                   0\n",
            "dtype: int64\n"
          ]
        }
      ]
    },
    {
      "cell_type": "markdown",
      "source": [
        "Remove the units from some of the attributes and only keep the numerical values (for\n",
        "example remove kmpl from “Mileage”, CC from “Engine”, bhp from “Power”, and lakh from\n",
        "“New_price”)."
      ],
      "metadata": {
        "id": "g6XCSX3l8xzd"
      }
    },
    {
      "cell_type": "code",
      "source": [
        "def clean_numeric_column(column):\n",
        "    # Ensure the column is treated as a string, then remove non-numeric characters\n",
        "    return pd.to_numeric(column.astype(str).str.replace(r'[^0-9.]', '', regex=True), errors='coerce')"
      ],
      "metadata": {
        "id": "S9ky75zCwkSJ"
      },
      "execution_count": 11,
      "outputs": []
    },
    {
      "cell_type": "code",
      "source": [
        "# Clean specific columns\n",
        "if 'Mileage' in df.columns:\n",
        "    df['Mileage'] = clean_numeric_column(df['Mileage'])\n"
      ],
      "metadata": {
        "id": "G7NlO_qTwxHC"
      },
      "execution_count": 12,
      "outputs": []
    },
    {
      "cell_type": "code",
      "source": [
        "if 'Engine' in df.columns:\n",
        "    df['Engine'] = clean_numeric_column(df['Engine'])\n"
      ],
      "metadata": {
        "id": "zxE19vViwzHH"
      },
      "execution_count": 13,
      "outputs": []
    },
    {
      "cell_type": "code",
      "source": [
        "if 'Power' in df.columns:\n",
        "    df['Power'] = clean_numeric_column(df['Power'])\n"
      ],
      "metadata": {
        "id": "ujEsUaJqw18Y"
      },
      "execution_count": 14,
      "outputs": []
    },
    {
      "cell_type": "code",
      "source": [
        "if 'New_price' in df.columns:\n",
        "    df['New_price'] = clean_numeric_column(df['New_price'])\n"
      ],
      "metadata": {
        "id": "vikv8FY6w3m2"
      },
      "execution_count": 15,
      "outputs": []
    },
    {
      "cell_type": "code",
      "source": [
        "# Display the cleaned DataFrame\n",
        "print(df.head())"
      ],
      "metadata": {
        "colab": {
          "base_uri": "https://localhost:8080/"
        },
        "id": "LtWFcBdKw5p_",
        "outputId": "c7e463bb-ecac-4831-fb29-d5438d224976"
      },
      "execution_count": 16,
      "outputs": [
        {
          "output_type": "stream",
          "name": "stdout",
          "text": [
            "   Unnamed: 0                              Name    Location  Year  \\\n",
            "0           1  Hyundai Creta 1.6 CRDi SX Option        Pune  2015   \n",
            "1           2                      Honda Jazz V     Chennai  2011   \n",
            "2           3                 Maruti Ertiga VDI     Chennai  2012   \n",
            "3           4   Audi A4 New 2.0 TDI Multitronic  Coimbatore  2013   \n",
            "4           6            Nissan Micra Diesel XV      Jaipur  2013   \n",
            "\n",
            "   Kilometers_Driven Fuel_Type Transmission Owner_Type  Mileage  Engine  \\\n",
            "0              41000    Diesel       Manual      First    19.67  1582.0   \n",
            "1              46000    Petrol       Manual      First    13.00  1199.0   \n",
            "2              87000    Diesel       Manual      First    20.77  1248.0   \n",
            "3              40670    Diesel    Automatic     Second    15.20  1968.0   \n",
            "4              86999    Diesel       Manual      First    23.08  1461.0   \n",
            "\n",
            "    Power  Seats  New_Price  Price  \n",
            "0  126.20    5.0        NaN  12.50  \n",
            "1   88.70    5.0  8.61 Lakh   4.50  \n",
            "2   88.76    7.0        NaN   6.00  \n",
            "3  140.80    5.0        NaN  17.74  \n",
            "4   63.10    5.0        NaN   3.50  \n"
          ]
        }
      ]
    },
    {
      "cell_type": "markdown",
      "source": [
        "Change the categorical variables (“Fuel_Type” and “Transmission”) into numerical one hot\n",
        "encoded value"
      ],
      "metadata": {
        "id": "kPcv3FxE889T"
      }
    },
    {
      "cell_type": "code",
      "source": [
        "# One-hot encode categorical variables\n",
        "df = pd.get_dummies(df, columns=['Fuel_Type', 'Transmission'], drop_first=True)\n"
      ],
      "metadata": {
        "id": "YUfGTda2xVPb"
      },
      "execution_count": 18,
      "outputs": []
    },
    {
      "cell_type": "code",
      "source": [
        "# Display the updated DataFrame\n",
        "print(df.head())"
      ],
      "metadata": {
        "colab": {
          "base_uri": "https://localhost:8080/"
        },
        "id": "Ckx4bJM6xfoD",
        "outputId": "02894c93-667b-4140-9850-ace7b853ad75"
      },
      "execution_count": 19,
      "outputs": [
        {
          "output_type": "stream",
          "name": "stdout",
          "text": [
            "   Unnamed: 0                              Name    Location  Year  \\\n",
            "0           1  Hyundai Creta 1.6 CRDi SX Option        Pune  2015   \n",
            "1           2                      Honda Jazz V     Chennai  2011   \n",
            "2           3                 Maruti Ertiga VDI     Chennai  2012   \n",
            "3           4   Audi A4 New 2.0 TDI Multitronic  Coimbatore  2013   \n",
            "4           6            Nissan Micra Diesel XV      Jaipur  2013   \n",
            "\n",
            "   Kilometers_Driven Owner_Type  Mileage  Engine   Power  Seats  New_Price  \\\n",
            "0              41000      First    19.67  1582.0  126.20    5.0        NaN   \n",
            "1              46000      First    13.00  1199.0   88.70    5.0  8.61 Lakh   \n",
            "2              87000      First    20.77  1248.0   88.76    7.0        NaN   \n",
            "3              40670     Second    15.20  1968.0  140.80    5.0        NaN   \n",
            "4              86999      First    23.08  1461.0   63.10    5.0        NaN   \n",
            "\n",
            "   Price  Fuel_Type_Electric  Fuel_Type_Petrol  Transmission_Manual  \n",
            "0  12.50               False             False                 True  \n",
            "1   4.50               False              True                 True  \n",
            "2   6.00               False             False                 True  \n",
            "3  17.74               False             False                False  \n",
            "4   3.50               False             False                 True  \n"
          ]
        }
      ]
    },
    {
      "cell_type": "markdown",
      "source": [
        "Create one more feature and add this column to the dataset (you can use mutate function in\n",
        "R for this). For example, you can calculate the current age of the car by subtracting “Year” value\n",
        "from the current year."
      ],
      "metadata": {
        "id": "hiMJOdxT_ZuX"
      }
    },
    {
      "cell_type": "code",
      "source": [
        "from datetime import datetime\n",
        "# Calculate the current year\n",
        "current_year = datetime.now().year"
      ],
      "metadata": {
        "id": "Y7EWPyyKxif-"
      },
      "execution_count": 21,
      "outputs": []
    },
    {
      "cell_type": "code",
      "source": [
        "# Create a new feature 'Car_Age'\n",
        "df['Car_Age'] = current_year - df['Year']"
      ],
      "metadata": {
        "id": "ktkf-z-Hxt_Z"
      },
      "execution_count": 22,
      "outputs": []
    },
    {
      "cell_type": "code",
      "source": [
        "# Display the updated DataFrame\n",
        "print(df.head())"
      ],
      "metadata": {
        "colab": {
          "base_uri": "https://localhost:8080/"
        },
        "id": "bRiQWLw3xzVw",
        "outputId": "66cf02eb-d4b8-4a5d-9ec2-3ff5b551dcaa"
      },
      "execution_count": 23,
      "outputs": [
        {
          "output_type": "stream",
          "name": "stdout",
          "text": [
            "   Unnamed: 0                              Name    Location  Year  \\\n",
            "0           1  Hyundai Creta 1.6 CRDi SX Option        Pune  2015   \n",
            "1           2                      Honda Jazz V     Chennai  2011   \n",
            "2           3                 Maruti Ertiga VDI     Chennai  2012   \n",
            "3           4   Audi A4 New 2.0 TDI Multitronic  Coimbatore  2013   \n",
            "4           6            Nissan Micra Diesel XV      Jaipur  2013   \n",
            "\n",
            "   Kilometers_Driven Owner_Type  Mileage  Engine   Power  Seats  New_Price  \\\n",
            "0              41000      First    19.67  1582.0  126.20    5.0        NaN   \n",
            "1              46000      First    13.00  1199.0   88.70    5.0  8.61 Lakh   \n",
            "2              87000      First    20.77  1248.0   88.76    7.0        NaN   \n",
            "3              40670     Second    15.20  1968.0  140.80    5.0        NaN   \n",
            "4              86999      First    23.08  1461.0   63.10    5.0        NaN   \n",
            "\n",
            "   Price  Fuel_Type_Electric  Fuel_Type_Petrol  Transmission_Manual  Car_Age  \n",
            "0  12.50               False             False                 True        9  \n",
            "1   4.50               False              True                 True       13  \n",
            "2   6.00               False             False                 True       12  \n",
            "3  17.74               False             False                False       11  \n",
            "4   3.50               False             False                 True       11  \n"
          ]
        }
      ]
    },
    {
      "cell_type": "code",
      "source": [
        "# Print the column names to check for discrepancies\n",
        "print(\"Column Names:\\n\", df.columns.tolist())"
      ],
      "metadata": {
        "colab": {
          "base_uri": "https://localhost:8080/"
        },
        "id": "kWjjc1iNy4Cs",
        "outputId": "87634cca-cb21-4925-8df7-6b3b39fa7ba6"
      },
      "execution_count": 24,
      "outputs": [
        {
          "output_type": "stream",
          "name": "stdout",
          "text": [
            "Column Names:\n",
            " ['Unnamed: 0', 'Name', 'Location', 'Year', 'Kilometers_Driven', 'Owner_Type', 'Mileage', 'Engine', 'Power', 'Seats', 'New_Price', 'Price', 'Fuel_Type_Electric', 'Fuel_Type_Petrol', 'Transmission_Manual', 'Car_Age']\n"
          ]
        }
      ]
    },
    {
      "cell_type": "markdown",
      "source": [
        "Perform select, filter, rename, mutate, arrange and summarize with group by operations (or\n",
        "their equivalent operations in python) on this dataset. (4 points)\n",
        "Submission:\n",
        "Create a public GitHub repo and upload the folders for the assignment on the GitHub and submit the\n",
        "link to Canvas.\n",
        "\n",
        "\n",
        "\n",
        "125%\n",
        "\n",
        "\n"
      ],
      "metadata": {
        "id": "r_KYJi-P9PH3"
      }
    },
    {
      "cell_type": "markdown",
      "source": [],
      "metadata": {
        "id": "JgEMhNSq9O9K"
      }
    },
    {
      "cell_type": "code",
      "source": [
        "# 1. Select specific columns (using the actual column names)\n",
        "selected_columns = df[['Name', 'Year', 'Price', 'Car_Age']]\n"
      ],
      "metadata": {
        "id": "H1Umf8_5zCdt"
      },
      "execution_count": 26,
      "outputs": []
    },
    {
      "cell_type": "code",
      "source": [
        "# 2. Filter rows where the price is greater than a specific value\n",
        "filtered_data = selected_columns[selected_columns['Price'] > 5]\n",
        "print(\"Selected and Filtered Data:\\n\", filtered_data.head())"
      ],
      "metadata": {
        "colab": {
          "base_uri": "https://localhost:8080/"
        },
        "id": "U-2gGlMUyYQZ",
        "outputId": "bd86f139-36f5-44b1-a614-f35602daca7e"
      },
      "execution_count": 27,
      "outputs": [
        {
          "output_type": "stream",
          "name": "stdout",
          "text": [
            "Selected and Filtered Data:\n",
            "                                   Name  Year  Price  Car_Age\n",
            "0     Hyundai Creta 1.6 CRDi SX Option  2015  12.50        9\n",
            "2                    Maruti Ertiga VDI  2012   6.00       12\n",
            "3      Audi A4 New 2.0 TDI Multitronic  2013  17.74       11\n",
            "5    Toyota Innova Crysta 2.8 GX AT 8S  2016  17.50        8\n",
            "6  Volkswagen Vento Diesel Comfortline  2013   5.20       11\n"
          ]
        }
      ]
    },
    {
      "cell_type": "code",
      "source": [
        "# 3. Rename columns (e.g., renaming 'Price' to 'Used_Car_Price')\n",
        "renamed_data = filtered_data.rename(columns={'Price': 'Used_Car_Price'})\n",
        "print(\"\\nRenamed Data:\\n\", renamed_data.head())"
      ],
      "metadata": {
        "colab": {
          "base_uri": "https://localhost:8080/"
        },
        "id": "vo4O2vDnya5g",
        "outputId": "e39645ff-0b46-4ff5-8a96-22775562c527"
      },
      "execution_count": 28,
      "outputs": [
        {
          "output_type": "stream",
          "name": "stdout",
          "text": [
            "\n",
            "Renamed Data:\n",
            "                                   Name  Year  Used_Car_Price  Car_Age\n",
            "0     Hyundai Creta 1.6 CRDi SX Option  2015           12.50        9\n",
            "2                    Maruti Ertiga VDI  2012            6.00       12\n",
            "3      Audi A4 New 2.0 TDI Multitronic  2013           17.74       11\n",
            "5    Toyota Innova Crysta 2.8 GX AT 8S  2016           17.50        8\n",
            "6  Volkswagen Vento Diesel Comfortline  2013            5.20       11\n"
          ]
        }
      ]
    },
    {
      "cell_type": "code",
      "source": [
        "# 4. Mutate by creating a new column (already done with Car_Age above)\n",
        "# Assume we want to mutate to add a price per year feature\n",
        "renamed_data['Price_Per_Year'] = renamed_data['Used_Car_Price'] / renamed_data['Car_Age']"
      ],
      "metadata": {
        "id": "uzqicOBkydeY"
      },
      "execution_count": 29,
      "outputs": []
    },
    {
      "cell_type": "code",
      "source": [
        "# 5. Arrange the data by 'Used_Car_Price' in descending order\n",
        "arranged_data = renamed_data.sort_values(by='Used_Car_Price', ascending=False)\n",
        "print(\"\\nArranged Data:\\n\", arranged_data.head())\n"
      ],
      "metadata": {
        "colab": {
          "base_uri": "https://localhost:8080/"
        },
        "id": "4bWLXcMgyfeQ",
        "outputId": "7341b8e3-6252-4fd7-8b16-7510f24417e8"
      },
      "execution_count": 30,
      "outputs": [
        {
          "output_type": "stream",
          "name": "stdout",
          "text": [
            "\n",
            "Arranged Data:\n",
            "                                              Name  Year  Used_Car_Price  \\\n",
            "3952  Land Rover Range Rover 3.0 Diesel LWB Vogue  2017          160.00   \n",
            "5620                   Lamborghini Gallardo Coupe  2011          120.00   \n",
            "5752                       Jaguar F Type 5.0 V8 S  2015          100.00   \n",
            "1457              Land Rover Range Rover Sport SE  2019           97.07   \n",
            "1917                           BMW 7 Series 740Li  2018           93.67   \n",
            "\n",
            "      Car_Age  Price_Per_Year  \n",
            "3952        7       22.857143  \n",
            "5620       13        9.230769  \n",
            "5752        9       11.111111  \n",
            "1457        5       19.414000  \n",
            "1917        6       15.611667  \n"
          ]
        }
      ]
    },
    {
      "cell_type": "code",
      "source": [
        "# 6. Summarize by grouping by 'Name' and calculating the average price\n",
        "summary = arranged_data.groupby('Name').agg(Average_Price=('Used_Car_Price', 'mean')).reset_index()\n",
        "print(\"\\nSummary:\\n\", summary)\n",
        "\n"
      ],
      "metadata": {
        "colab": {
          "base_uri": "https://localhost:8080/"
        },
        "id": "M5xQ4jdPyh5A",
        "outputId": "3d3ce319-6580-463e-d46b-2ce3ad8428c8"
      },
      "execution_count": 31,
      "outputs": [
        {
          "output_type": "stream",
          "name": "stdout",
          "text": [
            "\n",
            "Summary:\n",
            "                                 Name  Average_Price\n",
            "0          Audi A3 35 TDI Attraction      16.500000\n",
            "1             Audi A3 35 TDI Premium      19.250000\n",
            "2        Audi A3 35 TDI Premium Plus      18.900000\n",
            "3          Audi A3 35 TDI Technology      22.500000\n",
            "4                   Audi A4 1.8 TFSI       9.000000\n",
            "...                              ...            ...\n",
            "1171            Volvo XC60 D4 Summum      18.250000\n",
            "1172                   Volvo XC60 D5      19.433333\n",
            "1173       Volvo XC60 D5 Inscription      17.180000\n",
            "1174  Volvo XC90 2007-2015 D5 AT AWD      23.580000\n",
            "1175     Volvo XC90 2007-2015 D5 AWD      23.650000\n",
            "\n",
            "[1176 rows x 2 columns]\n"
          ]
        }
      ]
    }
  ]
}