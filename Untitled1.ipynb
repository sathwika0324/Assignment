{
  "nbformat": 4,
  "nbformat_minor": 0,
  "metadata": {
    "colab": {
      "provenance": [],
      "authorship_tag": "ABX9TyN7O7qegnwf1zqIYgiaUFCC",
      "include_colab_link": true
    },
    "kernelspec": {
      "name": "python3",
      "display_name": "Python 3"
    },
    "language_info": {
      "name": "python"
    }
  },
  "cells": [
    {
      "cell_type": "markdown",
      "metadata": {
        "id": "view-in-github",
        "colab_type": "text"
      },
      "source": [
        "<a href=\"https://colab.research.google.com/github/sathwika0324/Assignment/blob/main/Untitled1.ipynb\" target=\"_parent\"><img src=\"https://colab.research.google.com/assets/colab-badge.svg\" alt=\"Open In Colab\"/></a>"
      ]
    },
    {
      "cell_type": "code",
      "execution_count": 31,
      "metadata": {
        "id": "MGeoHy_Oo0RP"
      },
      "outputs": [],
      "source": [
        "import pandas as pd\n",
        "from tabulate import tabulate"
      ]
    },
    {
      "cell_type": "code",
      "source": [
        "# Load the dataset\n",
        "df = pd.read_csv('train.csv')  # Make sure 'train.csv' is in the current working directory\n",
        "\n",
        "# Display the first few rows to verify the data is loaded correctly\n",
        "print(tabulate(df.head(), headers='keys', tablefmt='grid'))\n"
      ],
      "metadata": {
        "colab": {
          "base_uri": "https://localhost:8080/"
        },
        "id": "65iLSwbUo5u2",
        "outputId": "4ccd45ef-27da-422d-b61c-32bad1b41fec"
      },
      "execution_count": 33,
      "outputs": [
        {
          "output_type": "stream",
          "name": "stdout",
          "text": [
            "+----+--------------+----------------------------------+------------+--------+---------------------+-------------+----------------+--------------+------------+----------+-----------+---------+-------------+---------+\n",
            "|    |   Unnamed: 0 | Name                             | Location   |   Year |   Kilometers_Driven | Fuel_Type   | Transmission   | Owner_Type   | Mileage    | Engine   | Power     |   Seats | New_Price   |   Price |\n",
            "+====+==============+==================================+============+========+=====================+=============+================+==============+============+==========+===========+=========+=============+=========+\n",
            "|  0 |            1 | Hyundai Creta 1.6 CRDi SX Option | Pune       |   2015 |               41000 | Diesel      | Manual         | First        | 19.67 kmpl | 1582 CC  | 126.2 bhp |       5 | nan         |   12.5  |\n",
            "+----+--------------+----------------------------------+------------+--------+---------------------+-------------+----------------+--------------+------------+----------+-----------+---------+-------------+---------+\n",
            "|  1 |            2 | Honda Jazz V                     | Chennai    |   2011 |               46000 | Petrol      | Manual         | First        | 13 km/kg   | 1199 CC  | 88.7 bhp  |       5 | 8.61 Lakh   |    4.5  |\n",
            "+----+--------------+----------------------------------+------------+--------+---------------------+-------------+----------------+--------------+------------+----------+-----------+---------+-------------+---------+\n",
            "|  2 |            3 | Maruti Ertiga VDI                | Chennai    |   2012 |               87000 | Diesel      | Manual         | First        | 20.77 kmpl | 1248 CC  | 88.76 bhp |       7 | nan         |    6    |\n",
            "+----+--------------+----------------------------------+------------+--------+---------------------+-------------+----------------+--------------+------------+----------+-----------+---------+-------------+---------+\n",
            "|  3 |            4 | Audi A4 New 2.0 TDI Multitronic  | Coimbatore |   2013 |               40670 | Diesel      | Automatic      | Second       | 15.2 kmpl  | 1968 CC  | 140.8 bhp |       5 | nan         |   17.74 |\n",
            "+----+--------------+----------------------------------+------------+--------+---------------------+-------------+----------------+--------------+------------+----------+-----------+---------+-------------+---------+\n",
            "|  4 |            6 | Nissan Micra Diesel XV           | Jaipur     |   2013 |               86999 | Diesel      | Manual         | First        | 23.08 kmpl | 1461 CC  | 63.1 bhp  |       5 | nan         |    3.5  |\n",
            "+----+--------------+----------------------------------+------------+--------+---------------------+-------------+----------------+--------------+------------+----------+-----------+---------+-------------+---------+\n"
          ]
        }
      ]
    },
    {
      "cell_type": "code",
      "source": [
        "# Function to clean and convert columns by removing non-numeric characters\n",
        "def clean_numeric_column(column):\n",
        "    # Remove non-numeric characters and convert to float\n",
        "    return pd.to_numeric(column.str.replace(r'[^0-9.]', '', regex=True), errors='coerce')"
      ],
      "metadata": {
        "id": "uUC_JIycv-yl"
      },
      "execution_count": 4,
      "outputs": []
    },
    {
      "cell_type": "code",
      "source": [
        "# Clean numerical columns\n",
        "numerical_columns = ['Mileage', 'Engine', 'Power']  # Update this list based on your dataset\n",
        "for col in numerical_columns:\n",
        "    if col in df.columns:\n",
        "        df[col] = clean_numeric_column(df[col])  # Clean the column"
      ],
      "metadata": {
        "id": "GFhTN50YwDdY"
      },
      "execution_count": 5,
      "outputs": []
    },
    {
      "cell_type": "markdown",
      "source": [
        " Look for the missing values in all the columns and either impute them (replace with mean,\n",
        "median, or mode) or drop them. Justify your action for this task."
      ],
      "metadata": {
        "id": "FfdRzuxm8buY"
      }
    },
    {
      "cell_type": "code",
      "source": [
        "# Check for missing values\n",
        "missing_values = df.isnull().sum()\n",
        "print(\"Missing values in each column:\\n\", missing_values)# Check for missing values"
      ],
      "metadata": {
        "colab": {
          "base_uri": "https://localhost:8080/"
        },
        "id": "OomkDQntpAeS",
        "outputId": "b96acaee-0784-44ef-f86c-2e890e363498"
      },
      "execution_count": 6,
      "outputs": [
        {
          "output_type": "stream",
          "name": "stdout",
          "text": [
            "Missing values in each column:\n",
            " Unnamed: 0              0\n",
            "Name                    0\n",
            "Location                0\n",
            "Year                    0\n",
            "Kilometers_Driven       0\n",
            "Fuel_Type               0\n",
            "Transmission            0\n",
            "Owner_Type              0\n",
            "Mileage                 2\n",
            "Engine                 36\n",
            "Power                  36\n",
            "Seats                  38\n",
            "New_Price            5032\n",
            "Price                   0\n",
            "dtype: int64\n"
          ]
        }
      ]
    },
    {
      "cell_type": "code",
      "source": [
        "# Impute numerical columns with median, as it is less affected by outliers\n",
        "for col in numerical_columns:\n",
        "    if col in df.columns:\n",
        "        # Fill missing values with the median of the column and assign back\n",
        "        df[col] = df[col].fillna(df[col].median())"
      ],
      "metadata": {
        "id": "kpC9BUn6vxdF"
      },
      "execution_count": 7,
      "outputs": []
    },
    {
      "cell_type": "code",
      "source": [
        "# Impute categorical columns with mode (most frequent value)\n",
        "categorical_columns = ['Seats']  # Update this list based on your dataset\n",
        "for col in categorical_columns:\n",
        "    if col in df.columns:\n",
        "        df[col] = df[col].fillna(df[col].mode()[0])  # Impute with mode"
      ],
      "metadata": {
        "id": "oBP2e5e-uESH"
      },
      "execution_count": 8,
      "outputs": []
    },
    {
      "cell_type": "code",
      "source": [
        "# Drop rows where the target variable 'Price' is missing, since it's the focus of the analysis\n",
        "df.dropna(subset=['Price'], inplace=True)"
      ],
      "metadata": {
        "id": "ZnAbgSiBuHHu"
      },
      "execution_count": 9,
      "outputs": []
    },
    {
      "cell_type": "code",
      "source": [
        "# Check again to confirm no missing values remain\n",
        "missing_values_after = df.isnull().sum()\n",
        "print(\"\\nMissing values after handling:\\n\", missing_values_after)"
      ],
      "metadata": {
        "colab": {
          "base_uri": "https://localhost:8080/"
        },
        "id": "EI6AMxanuIrE",
        "outputId": "964c23b8-007a-49e8-ec05-50a4a26758cc"
      },
      "execution_count": 10,
      "outputs": [
        {
          "output_type": "stream",
          "name": "stdout",
          "text": [
            "\n",
            "Missing values after handling:\n",
            " Unnamed: 0              0\n",
            "Name                    0\n",
            "Location                0\n",
            "Year                    0\n",
            "Kilometers_Driven       0\n",
            "Fuel_Type               0\n",
            "Transmission            0\n",
            "Owner_Type              0\n",
            "Mileage                 0\n",
            "Engine                  0\n",
            "Power                   0\n",
            "Seats                   0\n",
            "New_Price            5032\n",
            "Price                   0\n",
            "dtype: int64\n"
          ]
        }
      ]
    },
    {
      "cell_type": "markdown",
      "source": [
        "Remove the units from some of the attributes and only keep the numerical values (for\n",
        "example remove kmpl from “Mileage”, CC from “Engine”, bhp from “Power”, and lakh from\n",
        "“New_price”)."
      ],
      "metadata": {
        "id": "g6XCSX3l8xzd"
      }
    },
    {
      "cell_type": "code",
      "source": [
        "def clean_numeric_column(column):\n",
        "    # Ensure the column is treated as a string, then remove non-numeric characters\n",
        "    return pd.to_numeric(column.astype(str).str.replace(r'[^0-9.]', '', regex=True), errors='coerce')"
      ],
      "metadata": {
        "id": "S9ky75zCwkSJ"
      },
      "execution_count": 11,
      "outputs": []
    },
    {
      "cell_type": "code",
      "source": [
        "# Clean specific columns\n",
        "if 'Mileage' in df.columns:\n",
        "    df['Mileage'] = clean_numeric_column(df['Mileage'])\n"
      ],
      "metadata": {
        "id": "G7NlO_qTwxHC"
      },
      "execution_count": 12,
      "outputs": []
    },
    {
      "cell_type": "code",
      "source": [
        "if 'Engine' in df.columns:\n",
        "    df['Engine'] = clean_numeric_column(df['Engine'])\n"
      ],
      "metadata": {
        "id": "zxE19vViwzHH"
      },
      "execution_count": 13,
      "outputs": []
    },
    {
      "cell_type": "code",
      "source": [
        "if 'Power' in df.columns:\n",
        "    df['Power'] = clean_numeric_column(df['Power'])\n"
      ],
      "metadata": {
        "id": "ujEsUaJqw18Y"
      },
      "execution_count": 14,
      "outputs": []
    },
    {
      "cell_type": "code",
      "source": [
        "if 'New_price' in df.columns:\n",
        "    df['New_price'] = clean_numeric_column(df['New_price'])\n"
      ],
      "metadata": {
        "id": "vikv8FY6w3m2"
      },
      "execution_count": 15,
      "outputs": []
    },
    {
      "cell_type": "code",
      "source": [
        "# Display the cleaned DataFrmes\n",
        "print(tabulate(df.head(), headers='keys', tablefmt='grid'))\n"
      ],
      "metadata": {
        "colab": {
          "base_uri": "https://localhost:8080/"
        },
        "id": "LtWFcBdKw5p_",
        "outputId": "3695eaa9-e30c-4183-9359-424fd61b6eed"
      },
      "execution_count": 34,
      "outputs": [
        {
          "output_type": "stream",
          "name": "stdout",
          "text": [
            "+----+--------------+----------------------------------+------------+--------+---------------------+-------------+----------------+--------------+------------+----------+-----------+---------+-------------+---------+\n",
            "|    |   Unnamed: 0 | Name                             | Location   |   Year |   Kilometers_Driven | Fuel_Type   | Transmission   | Owner_Type   | Mileage    | Engine   | Power     |   Seats | New_Price   |   Price |\n",
            "+====+==============+==================================+============+========+=====================+=============+================+==============+============+==========+===========+=========+=============+=========+\n",
            "|  0 |            1 | Hyundai Creta 1.6 CRDi SX Option | Pune       |   2015 |               41000 | Diesel      | Manual         | First        | 19.67 kmpl | 1582 CC  | 126.2 bhp |       5 | nan         |   12.5  |\n",
            "+----+--------------+----------------------------------+------------+--------+---------------------+-------------+----------------+--------------+------------+----------+-----------+---------+-------------+---------+\n",
            "|  1 |            2 | Honda Jazz V                     | Chennai    |   2011 |               46000 | Petrol      | Manual         | First        | 13 km/kg   | 1199 CC  | 88.7 bhp  |       5 | 8.61 Lakh   |    4.5  |\n",
            "+----+--------------+----------------------------------+------------+--------+---------------------+-------------+----------------+--------------+------------+----------+-----------+---------+-------------+---------+\n",
            "|  2 |            3 | Maruti Ertiga VDI                | Chennai    |   2012 |               87000 | Diesel      | Manual         | First        | 20.77 kmpl | 1248 CC  | 88.76 bhp |       7 | nan         |    6    |\n",
            "+----+--------------+----------------------------------+------------+--------+---------------------+-------------+----------------+--------------+------------+----------+-----------+---------+-------------+---------+\n",
            "|  3 |            4 | Audi A4 New 2.0 TDI Multitronic  | Coimbatore |   2013 |               40670 | Diesel      | Automatic      | Second       | 15.2 kmpl  | 1968 CC  | 140.8 bhp |       5 | nan         |   17.74 |\n",
            "+----+--------------+----------------------------------+------------+--------+---------------------+-------------+----------------+--------------+------------+----------+-----------+---------+-------------+---------+\n",
            "|  4 |            6 | Nissan Micra Diesel XV           | Jaipur     |   2013 |               86999 | Diesel      | Manual         | First        | 23.08 kmpl | 1461 CC  | 63.1 bhp  |       5 | nan         |    3.5  |\n",
            "+----+--------------+----------------------------------+------------+--------+---------------------+-------------+----------------+--------------+------------+----------+-----------+---------+-------------+---------+\n"
          ]
        }
      ]
    },
    {
      "cell_type": "markdown",
      "source": [
        "Change the categorical variables (“Fuel_Type” and “Transmission”) into numerical one hot\n",
        "encoded value"
      ],
      "metadata": {
        "id": "kPcv3FxE889T"
      }
    },
    {
      "cell_type": "code",
      "source": [
        "# One-hot encode categorical variables\n",
        "df = pd.get_dummies(df, columns=['Fuel_Type', 'Transmission'], drop_first=True)\n"
      ],
      "metadata": {
        "id": "YUfGTda2xVPb"
      },
      "execution_count": 17,
      "outputs": []
    },
    {
      "cell_type": "code",
      "source": [
        "# Display the updated DataFrame\n",
        "print(tabulate(df.head(), headers='keys', tablefmt='grid'))"
      ],
      "metadata": {
        "colab": {
          "base_uri": "https://localhost:8080/"
        },
        "id": "Ckx4bJM6xfoD",
        "outputId": "78a120a1-78d9-4015-8c44-87958df0393e"
      },
      "execution_count": 35,
      "outputs": [
        {
          "output_type": "stream",
          "name": "stdout",
          "text": [
            "+----+--------------+----------------------------------+------------+--------+---------------------+-------------+----------------+--------------+------------+----------+-----------+---------+-------------+---------+\n",
            "|    |   Unnamed: 0 | Name                             | Location   |   Year |   Kilometers_Driven | Fuel_Type   | Transmission   | Owner_Type   | Mileage    | Engine   | Power     |   Seats | New_Price   |   Price |\n",
            "+====+==============+==================================+============+========+=====================+=============+================+==============+============+==========+===========+=========+=============+=========+\n",
            "|  0 |            1 | Hyundai Creta 1.6 CRDi SX Option | Pune       |   2015 |               41000 | Diesel      | Manual         | First        | 19.67 kmpl | 1582 CC  | 126.2 bhp |       5 | nan         |   12.5  |\n",
            "+----+--------------+----------------------------------+------------+--------+---------------------+-------------+----------------+--------------+------------+----------+-----------+---------+-------------+---------+\n",
            "|  1 |            2 | Honda Jazz V                     | Chennai    |   2011 |               46000 | Petrol      | Manual         | First        | 13 km/kg   | 1199 CC  | 88.7 bhp  |       5 | 8.61 Lakh   |    4.5  |\n",
            "+----+--------------+----------------------------------+------------+--------+---------------------+-------------+----------------+--------------+------------+----------+-----------+---------+-------------+---------+\n",
            "|  2 |            3 | Maruti Ertiga VDI                | Chennai    |   2012 |               87000 | Diesel      | Manual         | First        | 20.77 kmpl | 1248 CC  | 88.76 bhp |       7 | nan         |    6    |\n",
            "+----+--------------+----------------------------------+------------+--------+---------------------+-------------+----------------+--------------+------------+----------+-----------+---------+-------------+---------+\n",
            "|  3 |            4 | Audi A4 New 2.0 TDI Multitronic  | Coimbatore |   2013 |               40670 | Diesel      | Automatic      | Second       | 15.2 kmpl  | 1968 CC  | 140.8 bhp |       5 | nan         |   17.74 |\n",
            "+----+--------------+----------------------------------+------------+--------+---------------------+-------------+----------------+--------------+------------+----------+-----------+---------+-------------+---------+\n",
            "|  4 |            6 | Nissan Micra Diesel XV           | Jaipur     |   2013 |               86999 | Diesel      | Manual         | First        | 23.08 kmpl | 1461 CC  | 63.1 bhp  |       5 | nan         |    3.5  |\n",
            "+----+--------------+----------------------------------+------------+--------+---------------------+-------------+----------------+--------------+------------+----------+-----------+---------+-------------+---------+\n"
          ]
        }
      ]
    },
    {
      "cell_type": "markdown",
      "source": [
        "Create one more feature and add this column to the dataset (you can use mutate function in\n",
        "R for this). For example, you can calculate the current age of the car by subtracting “Year” value\n",
        "from the current year."
      ],
      "metadata": {
        "id": "hiMJOdxT_ZuX"
      }
    },
    {
      "cell_type": "code",
      "source": [
        "from datetime import datetime\n",
        "# Calculate the current year\n",
        "current_year = datetime.now().year"
      ],
      "metadata": {
        "id": "Y7EWPyyKxif-"
      },
      "execution_count": 19,
      "outputs": []
    },
    {
      "cell_type": "code",
      "source": [
        "# Create a new feature 'Car_Age'\n",
        "df['Car_Age'] = current_year - df['Year']"
      ],
      "metadata": {
        "id": "ktkf-z-Hxt_Z"
      },
      "execution_count": 20,
      "outputs": []
    },
    {
      "cell_type": "code",
      "source": [
        "# Display the updated DataFrame\n",
        "print(tabulate(df.head(), headers='keys', tablefmt='grid'))"
      ],
      "metadata": {
        "colab": {
          "base_uri": "https://localhost:8080/"
        },
        "id": "bRiQWLw3xzVw",
        "outputId": "8ef38d05-6c8d-4db7-b7b4-5c4bc92423d1"
      },
      "execution_count": 36,
      "outputs": [
        {
          "output_type": "stream",
          "name": "stdout",
          "text": [
            "+----+--------------+----------------------------------+------------+--------+---------------------+-------------+----------------+--------------+------------+----------+-----------+---------+-------------+---------+\n",
            "|    |   Unnamed: 0 | Name                             | Location   |   Year |   Kilometers_Driven | Fuel_Type   | Transmission   | Owner_Type   | Mileage    | Engine   | Power     |   Seats | New_Price   |   Price |\n",
            "+====+==============+==================================+============+========+=====================+=============+================+==============+============+==========+===========+=========+=============+=========+\n",
            "|  0 |            1 | Hyundai Creta 1.6 CRDi SX Option | Pune       |   2015 |               41000 | Diesel      | Manual         | First        | 19.67 kmpl | 1582 CC  | 126.2 bhp |       5 | nan         |   12.5  |\n",
            "+----+--------------+----------------------------------+------------+--------+---------------------+-------------+----------------+--------------+------------+----------+-----------+---------+-------------+---------+\n",
            "|  1 |            2 | Honda Jazz V                     | Chennai    |   2011 |               46000 | Petrol      | Manual         | First        | 13 km/kg   | 1199 CC  | 88.7 bhp  |       5 | 8.61 Lakh   |    4.5  |\n",
            "+----+--------------+----------------------------------+------------+--------+---------------------+-------------+----------------+--------------+------------+----------+-----------+---------+-------------+---------+\n",
            "|  2 |            3 | Maruti Ertiga VDI                | Chennai    |   2012 |               87000 | Diesel      | Manual         | First        | 20.77 kmpl | 1248 CC  | 88.76 bhp |       7 | nan         |    6    |\n",
            "+----+--------------+----------------------------------+------------+--------+---------------------+-------------+----------------+--------------+------------+----------+-----------+---------+-------------+---------+\n",
            "|  3 |            4 | Audi A4 New 2.0 TDI Multitronic  | Coimbatore |   2013 |               40670 | Diesel      | Automatic      | Second       | 15.2 kmpl  | 1968 CC  | 140.8 bhp |       5 | nan         |   17.74 |\n",
            "+----+--------------+----------------------------------+------------+--------+---------------------+-------------+----------------+--------------+------------+----------+-----------+---------+-------------+---------+\n",
            "|  4 |            6 | Nissan Micra Diesel XV           | Jaipur     |   2013 |               86999 | Diesel      | Manual         | First        | 23.08 kmpl | 1461 CC  | 63.1 bhp  |       5 | nan         |    3.5  |\n",
            "+----+--------------+----------------------------------+------------+--------+---------------------+-------------+----------------+--------------+------------+----------+-----------+---------+-------------+---------+\n"
          ]
        }
      ]
    },
    {
      "cell_type": "code",
      "source": [
        "# Print the column names to check for discrepancies\n",
        "print(\"Column Names:\\n\", df.columns.tolist())"
      ],
      "metadata": {
        "colab": {
          "base_uri": "https://localhost:8080/"
        },
        "id": "kWjjc1iNy4Cs",
        "outputId": "5e21c566-ae68-4232-dbae-d7a6274537e9"
      },
      "execution_count": 23,
      "outputs": [
        {
          "output_type": "stream",
          "name": "stdout",
          "text": [
            "Column Names:\n",
            " ['Unnamed: 0', 'Name', 'Location', 'Year', 'Kilometers_Driven', 'Owner_Type', 'Mileage', 'Engine', 'Power', 'Seats', 'New_Price', 'Price', 'Fuel_Type_Electric', 'Fuel_Type_Petrol', 'Transmission_Manual', 'Car_Age']\n"
          ]
        }
      ]
    },
    {
      "cell_type": "markdown",
      "source": [
        "Perform select, filter, rename, mutate, arrange and summarize with group by operations (or\n",
        "their equivalent operations in python) on this dataset.\n",
        "\n",
        "\n"
      ],
      "metadata": {
        "id": "r_KYJi-P9PH3"
      }
    },
    {
      "cell_type": "markdown",
      "source": [],
      "metadata": {
        "id": "JgEMhNSq9O9K"
      }
    },
    {
      "cell_type": "code",
      "source": [
        "# Print current columns to verify\n",
        "print(\"Current columns in DataFrame:\", df.columns.tolist())"
      ],
      "metadata": {
        "id": "H1Umf8_5zCdt",
        "colab": {
          "base_uri": "https://localhost:8080/"
        },
        "outputId": "6b2c9799-cf17-45ea-f3cb-a77ff6fcc0dd"
      },
      "execution_count": 40,
      "outputs": [
        {
          "output_type": "stream",
          "name": "stdout",
          "text": [
            "Current columns in DataFrame: ['Unnamed: 0', 'Name', 'Location', 'Year', 'Kilometers_Driven', 'Fuel_Type', 'Transmission', 'Owner_Type', 'Mileage', 'Engine', 'Power', 'Seats', 'New_Price', 'Price']\n"
          ]
        }
      ]
    },
    {
      "cell_type": "code",
      "source": [
        "# Create a new feature 'Car_Age'\n",
        "df['Car_Age'] = current_year - df['Year']\n"
      ],
      "metadata": {
        "id": "QaXyafhGCiIm"
      },
      "execution_count": 43,
      "outputs": []
    },
    {
      "cell_type": "code",
      "source": [
        "# Display only the first few rows of the selected columns\n",
        "print(\"\\nFirst Five Columns (Showing First 5 Rows):\")\n",
        "print(tabulate(first_five_columns.head(), headers='keys', tablefmt='grid'))"
      ],
      "metadata": {
        "colab": {
          "base_uri": "https://localhost:8080/"
        },
        "id": "99XQw7UVCLyf",
        "outputId": "1eb5b048-5ae9-40dc-89f2-ab0017509ba2"
      },
      "execution_count": 52,
      "outputs": [
        {
          "output_type": "stream",
          "name": "stdout",
          "text": [
            "\n",
            "First Five Columns (Showing First 5 Rows):\n",
            "+----+--------------+----------------------------------+------------+--------+---------------------+\n",
            "|    |   Unnamed: 0 | Name                             | Location   |   Year |   Kilometers_Driven |\n",
            "+====+==============+==================================+============+========+=====================+\n",
            "|  0 |            1 | Hyundai Creta 1.6 CRDi SX Option | Pune       |   2015 |               41000 |\n",
            "+----+--------------+----------------------------------+------------+--------+---------------------+\n",
            "|  1 |            2 | Honda Jazz V                     | Chennai    |   2011 |               46000 |\n",
            "+----+--------------+----------------------------------+------------+--------+---------------------+\n",
            "|  2 |            3 | Maruti Ertiga VDI                | Chennai    |   2012 |               87000 |\n",
            "+----+--------------+----------------------------------+------------+--------+---------------------+\n",
            "|  3 |            4 | Audi A4 New 2.0 TDI Multitronic  | Coimbatore |   2013 |               40670 |\n",
            "+----+--------------+----------------------------------+------------+--------+---------------------+\n",
            "|  4 |            6 | Nissan Micra Diesel XV           | Jaipur     |   2013 |               86999 |\n",
            "+----+--------------+----------------------------------+------------+--------+---------------------+\n"
          ]
        }
      ]
    },
    {
      "cell_type": "code",
      "source": [
        "# Display the filtered data in a neat table format\n",
        "print(\"\\nSelected and Filtered Data (Showing First 5 Rows):\")\n",
        "print(tabulate(filtered_data.head(), headers='keys', tablefmt='grid'))"
      ],
      "metadata": {
        "colab": {
          "base_uri": "https://localhost:8080/"
        },
        "id": "U-2gGlMUyYQZ",
        "outputId": "86c40334-69dd-4a2f-c0b3-973a3c709a77"
      },
      "execution_count": 53,
      "outputs": [
        {
          "output_type": "stream",
          "name": "stdout",
          "text": [
            "\n",
            "Selected and Filtered Data (Showing First 5 Rows):\n",
            "+----+-------------------------------------+--------+---------+-----------+\n",
            "|    | Name                                |   Year |   Price |   Car_Age |\n",
            "+====+=====================================+========+=========+===========+\n",
            "|  0 | Hyundai Creta 1.6 CRDi SX Option    |   2015 |   12.5  |         9 |\n",
            "+----+-------------------------------------+--------+---------+-----------+\n",
            "|  2 | Maruti Ertiga VDI                   |   2012 |    6    |        12 |\n",
            "+----+-------------------------------------+--------+---------+-----------+\n",
            "|  3 | Audi A4 New 2.0 TDI Multitronic     |   2013 |   17.74 |        11 |\n",
            "+----+-------------------------------------+--------+---------+-----------+\n",
            "|  5 | Toyota Innova Crysta 2.8 GX AT 8S   |   2016 |   17.5  |         8 |\n",
            "+----+-------------------------------------+--------+---------+-----------+\n",
            "|  6 | Volkswagen Vento Diesel Comfortline |   2013 |    5.2  |        11 |\n",
            "+----+-------------------------------------+--------+---------+-----------+\n"
          ]
        }
      ]
    },
    {
      "cell_type": "code",
      "source": [
        "# Display the renamed data in a neat table format\n",
        "print(\"\\nRenamed Data (Showing First 5 Rows):\")\n",
        "print(tabulate(renamed_data.head(), headers='keys', tablefmt='grid'))"
      ],
      "metadata": {
        "colab": {
          "base_uri": "https://localhost:8080/"
        },
        "id": "vo4O2vDnya5g",
        "outputId": "e3c5a45d-0020-442e-9dc4-18f58bcc1cce"
      },
      "execution_count": 54,
      "outputs": [
        {
          "output_type": "stream",
          "name": "stdout",
          "text": [
            "\n",
            "Renamed Data (Showing First 5 Rows):\n",
            "+----+-------------------------------------+--------+------------------+-----------+------------------+\n",
            "|    | Name                                |   Year |   Used_Car_Price |   Car_Age |   Price_Per_Year |\n",
            "+====+=====================================+========+==================+===========+==================+\n",
            "|  0 | Hyundai Creta 1.6 CRDi SX Option    |   2015 |            12.5  |         9 |         1.38889  |\n",
            "+----+-------------------------------------+--------+------------------+-----------+------------------+\n",
            "|  2 | Maruti Ertiga VDI                   |   2012 |             6    |        12 |         0.5      |\n",
            "+----+-------------------------------------+--------+------------------+-----------+------------------+\n",
            "|  3 | Audi A4 New 2.0 TDI Multitronic     |   2013 |            17.74 |        11 |         1.61273  |\n",
            "+----+-------------------------------------+--------+------------------+-----------+------------------+\n",
            "|  5 | Toyota Innova Crysta 2.8 GX AT 8S   |   2016 |            17.5  |         8 |         2.1875   |\n",
            "+----+-------------------------------------+--------+------------------+-----------+------------------+\n",
            "|  6 | Volkswagen Vento Diesel Comfortline |   2013 |             5.2  |        11 |         0.472727 |\n",
            "+----+-------------------------------------+--------+------------------+-----------+------------------+\n"
          ]
        }
      ]
    },
    {
      "cell_type": "code",
      "source": [
        "# 4. Mutate by creating a new column (already done with Car_Age above)\n",
        "# Assume we want to mutate to add a price per year feature\n",
        "renamed_data['Price_Per_Year'] = renamed_data['Used_Car_Price'] / renamed_data['Car_Age']"
      ],
      "metadata": {
        "id": "uzqicOBkydeY"
      },
      "execution_count": 27,
      "outputs": []
    },
    {
      "cell_type": "code",
      "source": [
        "# Display the arranged data in a neat table format\n",
        "print(\"\\nArranged Data (Showing First 5 Rows):\")\n",
        "print(tabulate(arranged_data.head(), headers='keys', tablefmt='grid'))"
      ],
      "metadata": {
        "colab": {
          "base_uri": "https://localhost:8080/"
        },
        "id": "4bWLXcMgyfeQ",
        "outputId": "8e26a98b-72dc-4ffd-9af5-7ff7466063b3"
      },
      "execution_count": 55,
      "outputs": [
        {
          "output_type": "stream",
          "name": "stdout",
          "text": [
            "\n",
            "Arranged Data (Showing First 5 Rows):\n",
            "+------+---------------------------------------------+--------+------------------+-----------+------------------+\n",
            "|      | Name                                        |   Year |   Used_Car_Price |   Car_Age |   Price_Per_Year |\n",
            "+======+=============================================+========+==================+===========+==================+\n",
            "| 3952 | Land Rover Range Rover 3.0 Diesel LWB Vogue |   2017 |           160    |         7 |         22.8571  |\n",
            "+------+---------------------------------------------+--------+------------------+-----------+------------------+\n",
            "| 5620 | Lamborghini Gallardo Coupe                  |   2011 |           120    |        13 |          9.23077 |\n",
            "+------+---------------------------------------------+--------+------------------+-----------+------------------+\n",
            "| 5752 | Jaguar F Type 5.0 V8 S                      |   2015 |           100    |         9 |         11.1111  |\n",
            "+------+---------------------------------------------+--------+------------------+-----------+------------------+\n",
            "| 1457 | Land Rover Range Rover Sport SE             |   2019 |            97.07 |         5 |         19.414   |\n",
            "+------+---------------------------------------------+--------+------------------+-----------+------------------+\n",
            "| 1917 | BMW 7 Series 740Li                          |   2018 |            93.67 |         6 |         15.6117  |\n",
            "+------+---------------------------------------------+--------+------------------+-----------+------------------+\n"
          ]
        }
      ]
    },
    {
      "cell_type": "code",
      "source": [
        "# Display the first five rows of the summary in a neat table format\n",
        "print(\"\\nSummary (Average Price by Car Name - First 5 Rows):\")\n",
        "print(tabulate(summary.head(), headers='keys', tablefmt='grid'))"
      ],
      "metadata": {
        "colab": {
          "base_uri": "https://localhost:8080/"
        },
        "id": "M5xQ4jdPyh5A",
        "outputId": "498a07df-b418-4fa8-fd36-bf0614ddac7a"
      },
      "execution_count": 57,
      "outputs": [
        {
          "output_type": "stream",
          "name": "stdout",
          "text": [
            "\n",
            "Summary (Average Price by Car Name - First 5 Rows):\n",
            "+----+-----------------------------+-----------------+\n",
            "|    | Name                        |   Average_Price |\n",
            "+====+=============================+=================+\n",
            "|  0 | Audi A3 35 TDI Attraction   |           16.5  |\n",
            "+----+-----------------------------+-----------------+\n",
            "|  1 | Audi A3 35 TDI Premium      |           19.25 |\n",
            "+----+-----------------------------+-----------------+\n",
            "|  2 | Audi A3 35 TDI Premium Plus |           18.9  |\n",
            "+----+-----------------------------+-----------------+\n",
            "|  3 | Audi A3 35 TDI Technology   |           22.5  |\n",
            "+----+-----------------------------+-----------------+\n",
            "|  4 | Audi A4 1.8 TFSI            |            9    |\n",
            "+----+-----------------------------+-----------------+\n"
          ]
        }
      ]
    }
  ]
}